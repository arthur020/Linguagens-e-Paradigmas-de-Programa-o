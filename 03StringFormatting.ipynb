{
 "cells": [
  {
   "cell_type": "code",
   "execution_count": 1,
   "metadata": {
    "collapsed": false
   },
   "outputs": [
    {
     "name": "stdout",
     "output_type": "stream",
     "text": [
      "Vou inserir alguma coisa aqui\n"
     ]
    }
   ],
   "source": [
    "print(\"Vou inserir %s aqui\" %\"alguma coisa\")"
   ]
  },
  {
   "cell_type": "code",
   "execution_count": 3,
   "metadata": {
    "collapsed": false
   },
   "outputs": [
    {
     "name": "stdout",
     "output_type": "stream",
     "text": [
      "Vou inserir alguma coisa aqui e outra coisa e mais coisa\n"
     ]
    }
   ],
   "source": [
    "print(\"Vou inserir %s aqui e %s e %s\" %(\"alguma coisa\", 'outra coisa', 'mais coisa'))"
   ]
  },
  {
   "cell_type": "code",
   "execution_count": 5,
   "metadata": {
    "collapsed": false
   },
   "outputs": [
    {
     "name": "stdout",
     "output_type": "stream",
     "text": [
      "Vou inserir alguma coisa aqui e outra coisa e mais uma coisa\n"
     ]
    }
   ],
   "source": [
    "x = \"alguma coisa\"\n",
    "y = 'outra coisa'\n",
    "z = 'mais uma coisa'\n",
    "print(\"Vou inserir %s aqui e %s e %s\" %(x, y, z))"
   ]
  },
  {
   "cell_type": "code",
   "execution_count": 6,
   "metadata": {
    "collapsed": false
   },
   "outputs": [
    {
     "name": "stdout",
     "output_type": "stream",
     "text": [
      "Número decimal: 13.14\n"
     ]
    }
   ],
   "source": [
    "print(\"Número decimal: %5.2f\" %13.144)"
   ]
  },
  {
   "cell_type": "code",
   "execution_count": 7,
   "metadata": {
    "collapsed": false
   },
   "outputs": [
    {
     "name": "stdout",
     "output_type": "stream",
     "text": [
      "Número decimal: 13\n"
     ]
    }
   ],
   "source": [
    "print(\"Número decimal: %1.0f\" %13.144)"
   ]
  },
  {
   "cell_type": "code",
   "execution_count": 8,
   "metadata": {
    "collapsed": false
   },
   "outputs": [
    {
     "name": "stdout",
     "output_type": "stream",
     "text": [
      "Número decimal: 13.14400\n"
     ]
    }
   ],
   "source": [
    "print(\"Número decimal: %1.5f\" %13.144)"
   ]
  },
  {
   "cell_type": "code",
   "execution_count": 9,
   "metadata": {
    "collapsed": false
   },
   "outputs": [
    {
     "name": "stdout",
     "output_type": "stream",
     "text": [
      "Número decimal:      13.14\n"
     ]
    }
   ],
   "source": [
    "print(\"Número decimal: %10.2f\" %13.144)"
   ]
  },
  {
   "cell_type": "code",
   "execution_count": 19,
   "metadata": {
    "collapsed": false
   },
   "outputs": [
    {
     "name": "stdout",
     "output_type": "stream",
     "text": [
      "primeiro: olá\n",
      "segundo:  3.14\n",
      "terceiro: 500\n"
     ]
    }
   ],
   "source": [
    "print(\"primeiro: %3s\\nsegundo:%6.2f\\nterceiro: %2d\" %('olá', 3.14, 500))"
   ]
  },
  {
   "cell_type": "code",
   "execution_count": 24,
   "metadata": {
    "collapsed": false
   },
   "outputs": [
    {
     "name": "stdout",
     "output_type": "stream",
     "text": [
      "Fruta    | Quantidade\n",
      "Maça     | 3        \n",
      "Laranja  | 10       \n"
     ]
    }
   ],
   "source": [
    "print('{0:8} | {1:9}'.format('Fruta', 'Quantidade'))\n",
    "print('{0:8} | {1:9}'.format('Maça', '3'))\n",
    "print('{0:8} | {1:9}'.format('Laranja', '10'))"
   ]
  },
  {
   "cell_type": "code",
   "execution_count": 27,
   "metadata": {
    "collapsed": false
   },
   "outputs": [
    {
     "name": "stdout",
     "output_type": "stream",
     "text": [
      "Left     |  Center  |    Right\n"
     ]
    }
   ],
   "source": [
    "print('{0:<8} | {1:^8} | {2:>8}' .format('Left' , 'Center' , 'Right'))"
   ]
  },
  {
   "cell_type": "code",
   "execution_count": 29,
   "metadata": {
    "collapsed": false
   },
   "outputs": [
    {
     "name": "stdout",
     "output_type": "stream",
     "text": [
      "Left     |  Center  |    Right\n",
      "10       |    11    |       12\n"
     ]
    }
   ],
   "source": [
    "print('{0:<8} | {1:^8} | {2:>8}' .format('Left' , 'Center' , 'Right'))\n",
    "print('{0:<8} | {1:^8} | {2:>8}' .format(10, 11, 12))"
   ]
  },
  {
   "cell_type": "code",
   "execution_count": 33,
   "metadata": {
    "collapsed": false
   },
   "outputs": [
    {
     "name": "stdout",
     "output_type": "stream",
     "text": [
      "Left==== | -Center- | ...Right\n",
      "10====== | ---11--- | ......12\n"
     ]
    }
   ],
   "source": [
    "print('{0:=<8} | {1:-^8} | {2:.>8}' .format('Left' , 'Center' , 'Right'))\n",
    "print('{0:=<8} | {1:-^8} | {2:.>8}' .format(10, 11, 12))"
   ]
  },
  {
   "cell_type": "code",
   "execution_count": null,
   "metadata": {
    "collapsed": true
   },
   "outputs": [],
   "source": []
  }
 ],
 "metadata": {
  "kernelspec": {
   "display_name": "Python 3",
   "language": "python",
   "name": "python3"
  },
  "language_info": {
   "codemirror_mode": {
    "name": "ipython",
    "version": 3
   },
   "file_extension": ".py",
   "mimetype": "text/x-python",
   "name": "python",
   "nbconvert_exporter": "python",
   "pygments_lexer": "ipython3",
   "version": "3.6.0"
  }
 },
 "nbformat": 4,
 "nbformat_minor": 2
}
